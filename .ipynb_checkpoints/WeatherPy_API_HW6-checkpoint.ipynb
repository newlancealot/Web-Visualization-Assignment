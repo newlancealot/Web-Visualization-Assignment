{
 "cells": [
  {
   "cell_type": "code",
   "execution_count": 1,
   "metadata": {},
   "outputs": [
    {
     "ename": "ModuleNotFoundError",
     "evalue": "No module named 'config'",
     "output_type": "error",
     "traceback": [
      "\u001b[1;31m---------------------------------------------------------------------------\u001b[0m",
      "\u001b[1;31mModuleNotFoundError\u001b[0m                       Traceback (most recent call last)",
      "\u001b[1;32m<ipython-input-1-542464a48155>\u001b[0m in \u001b[0;36m<module>\u001b[1;34m()\u001b[0m\n\u001b[0;32m      7\u001b[0m \u001b[1;32mimport\u001b[0m \u001b[0mmatplotlib\u001b[0m\u001b[1;33m.\u001b[0m\u001b[0mpyplot\u001b[0m \u001b[1;32mas\u001b[0m \u001b[0mplt\u001b[0m\u001b[1;33m\u001b[0m\u001b[0m\n\u001b[0;32m      8\u001b[0m \u001b[1;32mimport\u001b[0m \u001b[0mcitipy\u001b[0m \u001b[1;32mas\u001b[0m \u001b[0mcitipy\u001b[0m\u001b[1;33m\u001b[0m\u001b[0m\n\u001b[1;32m----> 9\u001b[1;33m \u001b[1;32mfrom\u001b[0m \u001b[0mconfig\u001b[0m \u001b[1;32mimport\u001b[0m \u001b[0mapi_keyOpenweather\u001b[0m\u001b[1;33m\u001b[0m\u001b[0m\n\u001b[0m",
      "\u001b[1;31mModuleNotFoundError\u001b[0m: No module named 'config'"
     ]
    }
   ],
   "source": [
    "# Dependencies\n",
    "import pandas as pd\n",
    "import numpy as no\n",
    "import json\n",
    "import csv\n",
    "import requests\n",
    "import matplotlib.pyplot as plt\n",
    "import citipy as citipy\n",
    "from config import api_keyOpenweather"
   ]
  },
  {
   "cell_type": "code",
   "execution_count": null,
   "metadata": {},
   "outputs": [],
   "source": [
    "#import CSV\n",
    "cities_pd = pd.read_csv(\"hw_Resources/worldcities.csv\")\n",
    "cities_pd.head()"
   ]
  },
  {
   "cell_type": "code",
   "execution_count": null,
   "metadata": {},
   "outputs": [],
   "source": [
    "#add columns to df\n",
    "#cities_pd[\"City\"] = \"\"\n",
    "cities_pd[\"Cloudiness\"] = \"\"\n",
    "cities_pd[\"Country\"] = \"\"\n",
    "cities_pd[\"Date\"] = \"\"\n",
    "cities_pd[\"Humidity\"] = \"\"\n",
    "#cities_pd[\"Latitude\"] = \"\"\n",
    "#cities_pd[\"Longitude\"] = \"\"\n",
    "cities_pd[\"Max Temp\"] = \"\"\n",
    "cities_pd[\"Wind Speed\"] = \"\"\n",
    "cities_pd.head()\n",
    "cities_pd=cities_pd.sample(n=500)\n",
    "len(cities_pd)"
   ]
  },
  {
   "cell_type": "code",
   "execution_count": null,
   "metadata": {
    "collapsed": true
   },
   "outputs": [],
   "source": [
    "# Save config information\n",
    "url = \"http://api.openweathermap.org/data/2.5/weather?\"\n",
    "#format = \"json\"\n",
    "city = \"London\"\n",
    "# Build query URL\n",
    "query_url = url + \"appid=\" + api_keyOpenweather + \"&q=\" + city"
   ]
  },
  {
   "cell_type": "code",
   "execution_count": null,
   "metadata": {},
   "outputs": [],
   "source": [
    "# Get weather data\n",
    "weather_data = requests.get(query_url)\n",
    "weather_json = weather_data.json()\n",
    "\n",
    "# Get the temperature from the response\n",
    "print(f\"The weather API responded with: {weather_json}.\")"
   ]
  },
  {
   "cell_type": "code",
   "execution_count": null,
   "metadata": {
    "collapsed": true,
    "scrolled": true
   },
   "outputs": [],
   "source": [
    "#cities_response = requests.get(f\"{url}cities?format={format}\").json()\n",
    "#cities = cities_response[0]\n",
    "\n",
    "#for city in cities:\n",
    "    #print(city[\"name\"])"
   ]
  },
  {
   "cell_type": "code",
   "execution_count": null,
   "metadata": {},
   "outputs": [],
   "source": [
    "cities_pd.head()"
   ]
  },
  {
   "cell_type": "code",
   "execution_count": null,
   "metadata": {},
   "outputs": [],
   "source": [
    "cloudiness = []\n",
    "date = []\n",
    "humidity = []\n",
    "max_temp = []\n",
    "wind_speed = []\n",
    "cities =cities_pd['City']\n",
    "\n",
    "#loop through cities to make API request & append results\n",
    "for city in cities:\n",
    "    response = requests.get(query_url + city).json()\n",
    "    cloudiness.append(response['weather']['clouds'])\n",
    "    date.append(response['date']['date'])\n",
    "    humidity.append(response['main']['humidity'])\n",
    "    maxtemp.append(response['main']['temp_max'])\n",
    "    windspeed.append(response['wind']['speed'])\n",
    "    \n",
    "    "
   ]
  },
  {
   "cell_type": "code",
   "execution_count": null,
   "metadata": {
    "collapsed": true
   },
   "outputs": [],
   "source": [
    "cities_pd.head()"
   ]
  },
  {
   "cell_type": "code",
   "execution_count": null,
   "metadata": {
    "collapsed": true
   },
   "outputs": [],
   "source": [
    "print(f\"cloudiness: {cloudiness}\")\n",
    "print(f\"date: {date}\")\n",
    "print(f\"humidity: {humidity}\")\n",
    "print(f\"max temp: {max_temp}\")\n",
    "print(f\"windspeed: {wind_speed}\")\n"
   ]
  },
  {
   "cell_type": "code",
   "execution_count": null,
   "metadata": {
    "collapsed": true
   },
   "outputs": [],
   "source": [
    "weather_data = {\"city\": cities, \"latitude\": lat, \"longitude\": long, \"cloudiness\": cloudiness, \"date\": date, \"humidity\" : humidity, \"windspeed\": wind_speed}\n",
    "weather_data = pd.DataFrame(weather_data)\n",
    "weather_data"
   ]
  },
  {
   "cell_type": "code",
   "execution_count": null,
   "metadata": {
    "collapsed": true
   },
   "outputs": [],
   "source": [
    "# temp vs lat plot\n",
    "plt.scatter(weather_data[\"max_temp\"], weather_data[\"latitude\"], marker=\"o\")\n",
    "\n",
    "#plot labels\n",
    "plt.title(\"Max Temp vs Latitude\")\n",
    "plt.ylabel(\"Max Temp (F)\")\n",
    "plt.xlabel(\"Latitude\")\n",
    "plt.grid(True)\n",
    "\n",
    "plt.show"
   ]
  },
  {
   "cell_type": "code",
   "execution_count": null,
   "metadata": {
    "collapsed": true
   },
   "outputs": [],
   "source": [
    "# humidity vs lat plot\n",
    "plt.scatter(weather_data[\"humidity\"], weather_data[\"latitude\"], marker=\"o\")\n",
    "\n",
    "#plot labels\n",
    "plt.title(\"Humidity vs Latitude\")\n",
    "plt.ylabel(\"Humidity %\")\n",
    "plt.xlabel(\"Latitude\")\n",
    "plt.grid(True)\n",
    "\n",
    "plt.show"
   ]
  },
  {
   "cell_type": "code",
   "execution_count": null,
   "metadata": {
    "collapsed": true
   },
   "outputs": [],
   "source": [
    "# wind speed vs lat plot\n",
    "plt.scatter(weather_data[\"wind_speed\"], weather_data[\"latitude\"], marker=\"o\")\n",
    "\n",
    "#plot labels\n",
    "plt.title(\"Wind Speed vs Latitude\")\n",
    "plt.ylabel(\"Humidity %\")\n",
    "plt.xlabel(\"Latitude\")\n",
    "plt.grid(True)\n",
    "\n",
    "plt.show"
   ]
  },
  {
   "cell_type": "code",
   "execution_count": null,
   "metadata": {
    "collapsed": true
   },
   "outputs": [],
   "source": [
    "# cloudiness vs lat plot\n",
    "plt.scatter(weather_data[\"cloudiness\"], weather_data[\"latitude\"], marker=\"o\")\n",
    "\n",
    "#plot labels\n",
    "plt.title(\"Cloudiness vs Latitude\")\n",
    "plt.ylabel(\"Humidity %\")\n",
    "plt.xlabel(\"Latitude\")\n",
    "plt.grid(True)\n",
    "\n",
    "plt.show"
   ]
  },
  {
   "cell_type": "code",
   "execution_count": null,
   "metadata": {
    "collapsed": true
   },
   "outputs": [],
   "source": []
  }
 ],
 "metadata": {
  "kernelspec": {
   "display_name": "Python 3",
   "language": "python",
   "name": "python3"
  },
  "language_info": {
   "codemirror_mode": {
    "name": "ipython",
    "version": 3
   },
   "file_extension": ".py",
   "mimetype": "text/x-python",
   "name": "python",
   "nbconvert_exporter": "python",
   "pygments_lexer": "ipython3",
   "version": "3.6.3"
  },
  "varInspector": {
   "cols": {
    "lenName": 16,
    "lenType": 16,
    "lenVar": 40
   },
   "kernels_config": {
    "python": {
     "delete_cmd_postfix": "",
     "delete_cmd_prefix": "del ",
     "library": "var_list.py",
     "varRefreshCmd": "print(var_dic_list())"
    },
    "r": {
     "delete_cmd_postfix": ") ",
     "delete_cmd_prefix": "rm(",
     "library": "var_list.r",
     "varRefreshCmd": "cat(var_dic_list()) "
    }
   },
   "types_to_exclude": [
    "module",
    "function",
    "builtin_function_or_method",
    "instance",
    "_Feature"
   ],
   "window_display": false
  }
 },
 "nbformat": 4,
 "nbformat_minor": 2
}
